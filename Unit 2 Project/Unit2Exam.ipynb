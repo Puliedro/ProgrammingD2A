{
 "cells": [
  {
   "cell_type": "markdown",
   "metadata": {},
   "source": [
    "# Write a program to find the number if times the character \"n\" is in the string and the position number of each \"n\".\n",
    "# For example in the following text \"Ninguno sabe nadar\".\n",
    "# There are  4 n(s) and they are in the following positions  [0, 2, 5, 13]\n"
   ]
  },
  {
   "cell_type": "code",
   "execution_count": null,
   "metadata": {},
   "outputs": [],
   "source": [
    "def timesN():\n",
    "#Defining the characters to count and the list where the postion will be saved\n",
    "    characterToCount1 = 'n'\n",
    "    characterToCount2 = 'N'\n",
    "    lst = []\n",
    "\n",
    "#Asking user for input\n",
    "    text = input(\"Enter the text you want to find how much times N appear in it.\")\n",
    "\n",
    "#Making an iteration to append each position of an n or N to the lst array\n",
    "    for position, character in enumerate(text):\n",
    "        if(character == characterToCount1 or character == characterToCount2):\n",
    "            lst.append(position)\n",
    "\n",
    "#Counting the characters n and N\n",
    "    characterCounted = text.count(characterToCount1) + text.count(characterToCount2)\n",
    "\n",
    "#Printing the results\n",
    "    print(\"Hi! In the text you entered, the total amount of times the letter n appeared is: \", characterCounted)\n",
    "    print(\"And the positions are: \", lst)\n",
    "timesN()"
   ]
  },
  {
   "cell_type": "markdown",
   "metadata": {},
   "source": [
    "# Write a code to reverse your full name, first names, last names.\n",
    "# For example: If your name is \"Yaxkukul del Rocio Lopez-Portillo Arrigunaga\"\n",
    "# The result should be: \"Arrigunaga Lopez-Portillo Rocio del Yaxkukul\""
   ]
  },
  {
   "cell_type": "code",
   "execution_count": null,
   "metadata": {},
   "outputs": [],
   "source": [
    "def reverseName():\n",
    "#Asking user for the name input\n",
    "    name = input(\"Enter your full name and I will reverse it!\")\n",
    "\n",
    "#Splitting the name into an array to keep each word, and printing it\n",
    "    nameSplit = name.split()\n",
    "    print(nameSplit)\n",
    "\n",
    "#Getting the array length/total words of the name, and creating a variable with this value to modify it later\n",
    "    nameArrayLenght = len(nameSplit)\n",
    "    temp = nameArrayLenght\n",
    "\n",
    "#Declaring the list to save the name reversed\n",
    "    nameReversed = []\n",
    "\n",
    "#Reversing name using a while loop\n",
    "    while temp > 0:\n",
    "        nameReversed += nameSplit[temp-1] #Here we add backwards each value of nameSplit to nameReversed\n",
    "        temp = temp - 1\n",
    "\n",
    "#printing name reversed\n",
    "    print(nameReversed)\n",
    "reverseName()"
   ]
  },
  {
   "cell_type": "markdown",
   "metadata": {},
   "source": [
    "# Write a code to print all the names and grades of the students that passed. \n",
    "# The passing grade will be 7.\n",
    "# You will get a dictionary like this:\n",
    "# dict_alumnos = {\"Pedro\":10,\"Juan\":9,\"José\":8,\"Beto\":5,\"Maria\":7,\"Julia\":6}\n",
    "# The result should be: {'Pedro': 10, 'Juan': 9, 'José': 8, 'Maria': 7}\n"
   ]
  },
  {
   "cell_type": "code",
   "execution_count": null,
   "metadata": {},
   "outputs": [],
   "source": [
    "def passedStudents():\n",
    "    #Defining the students and its grades, as well as the passing grade.\n",
    "    dict_alumnos = {\"Pedro\": 10, \"Juan\": 9, \"José\": 8, \"Beto\": 5, \"Maria\": 7, \"Julia\": 6}\n",
    "    passGrade = 7\n",
    "\n",
    "    #Here, we create a dictionary to save the students that passed\n",
    "    approvedStudents = {}\n",
    "\n",
    "    # create a for loop that iterates through each student and its value\n",
    "    # and add it to the approvedStudents dictionary if the value is higher than the passing grade.\n",
    "    for x in dict_alumnos:\n",
    "        if dict_alumnos[x] >= passGrade:\n",
    "            approvedStudents[x] = dict_alumnos[x]\n",
    "\n",
    "    #Printing the passing students!\n",
    "    print(approvedStudents)\n",
    "passedStudents()"
   ]
  },
  {
   "cell_type": "markdown",
   "metadata": {},
   "source": [
    "# Write a code to switch a dictionary keys and values and then sort them by number.\n",
    "# For example:\n",
    "# alumnos_id = {\"Pedro\":3,\"Juan\":6,\"José\":2,\"Beto\":5,\"Maria\":1,\"Julia\":4}\n",
    "# It should get like this: {1: 'Maria', 2: 'José', 3: 'Pedro', 4: 'Julia', 5: 'Beto', 6: 'Juan'}"
   ]
  },
  {
   "cell_type": "code",
   "execution_count": null,
   "metadata": {},
   "outputs": [],
   "source": [
    "def sortedGrades():\n",
    "    #Defining dictionaries\n",
    "    alumnos_id = {\"Pedro\": 3, \"Juan\": 6, \"José\": 2, \"Beto\": 5, \"Maria\": 1, \"Julia\": 4}\n",
    "    alumnos_id_switched = {}\n",
    "    alumnos_id_sorted = {}\n",
    "\n",
    "    #Switching the values and keys!\n",
    "    for k, v in alumnos_id.items():\n",
    "        alumnos_id_switched[v] = k\n",
    "    print(alumnos_id_switched)\n",
    "\n",
    "\n",
    "    #Sorting the switched values and keys!!\n",
    "\n",
    "    #Set a variable x for ordering the numbers\n",
    "    v = 1\n",
    "    # X will be incrementing 1 by 1, each time it matches a value, will set the key in the next position\n",
    "    while v != len(alumnos_id_switched) + 1:\n",
    "        for k in range(len(alumnos_id_switched) + 1):\n",
    "            if k == v:\n",
    "                alumnos_id_sorted.update({k: alumnos_id_switched[k]})\n",
    "\n",
    "        # add 1 to continue the iteration\n",
    "        v += 1\n",
    "\n",
    "    print(alumnos_id_sorted)\n",
    "    sortedGrades()"
   ]
  }
 ],
 "metadata": {
  "kernelspec": {
   "display_name": "Python 3.10.4 64-bit",
   "language": "python",
   "name": "python3"
  },
  "language_info": {
   "name": "python",
   "version": "3.10.4"
  },
  "orig_nbformat": 4,
  "vscode": {
   "interpreter": {
    "hash": "8a94588eda9d64d9e9a351ab8144e55b1fabf5113b54e67dd26a8c27df0381b3"
   }
  }
 },
 "nbformat": 4,
 "nbformat_minor": 2
}
