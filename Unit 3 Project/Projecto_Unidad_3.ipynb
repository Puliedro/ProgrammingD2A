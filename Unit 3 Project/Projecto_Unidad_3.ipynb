{
  "cells": [
    {
      "cell_type": "markdown",
      "metadata": {
        "id": "-kDli25HbS1v"
      },
      "source": [
        "## Unit 3 Project.\n",
        "Arguments and recusivity.\n",
        "Using what you have learnt from making functions, paramaters, *args, kwargs or recursivity. \n",
        "Do the following exercises.\n",
        "\n"
      ]
    },
    {
      "cell_type": "markdown",
      "metadata": {
        "id": "dpb6EkJzbiKd"
      },
      "source": [
        "Exercise # 1\n",
        "\n",
        "Create a function that will sum two numbers and return their value and then print it\n"
      ]
    },
    {
      "cell_type": "code",
      "execution_count": 1,
      "metadata": {
        "id": "kqC3yqCFb1dm"
      },
      "outputs": [
        {
          "name": "stdout",
          "output_type": "stream",
          "text": [
            "\n",
            "The sum of the two numbers is  3\n",
            "The sum of 1 and 2 is 3\n",
            "3\n"
          ]
        }
      ],
      "source": [
        "#Function to sum values\n",
        "def sum(a,b): \n",
        "    sum = int(a) + int(b) \n",
        "    print(\"\\nThe sum of the two numbers is \", sum)\n",
        "    print(\"The sum of {} and {} is {}\".format(a, b, sum)) #Printing them\n",
        "    print(sum)\n",
        "\n",
        "#Making the user input 2 values in the same line\n",
        "x, y =input(\"\\nEnter two numbers and I will add them\\n\").split() \n",
        "\n",
        "#Calling the function with the 2 values\n",
        "sum(x,y) \n"
      ]
    },
    {
      "cell_type": "markdown",
      "metadata": {
        "id": "8TFH8BAscBlN"
      },
      "source": [
        "Exercise # 2\n",
        "\n",
        "Create a nested function to build the following:\n",
        "Using the following lists\n",
        "fruits = (\"apple\", \"cherry\", \"strawberry\")\n",
        "adjectives = (\"big\",\"red\", \"juicy\")\n",
        "\n",
        "Build a function or functions to print:\n",
        "- big apple, red apple, juicy apple,\n",
        "- big cherry, red cherry, juicy cherry,\n",
        "- big strawberry, red strawberry, juicy strawberry,\n",
        "\n"
      ]
    },
    {
      "cell_type": "code",
      "execution_count": 4,
      "metadata": {
        "colab": {
          "base_uri": "https://localhost:8080/"
        },
        "id": "46-IRHkedoe1",
        "outputId": "3e35535d-704f-4463-db83-519b80b869aa"
      },
      "outputs": [
        {
          "name": "stdout",
          "output_type": "stream",
          "text": [
            "big apple, red apple, juicy apple, \n",
            "\n",
            "big cherry, red cherry, juicy cherry, \n",
            "\n",
            "big strawberry, red strawberry, juicy strawberry, \n",
            "\n"
          ]
        }
      ],
      "source": [
        "#Creating a function to print an adjective and a fruit, based on an argument\n",
        "def nestedFunction(a, b):\n",
        "    fruits = [\"apple\", \"cherry\", \"strawberry\"]\n",
        "    adjectives = [\"big\",\"red\", \"juicy\"]\n",
        "    print(\"{} {}, \".format(adjectives[b], fruits[a]), end = '')\n",
        "\n",
        "\n",
        "#Making the nested loops to print all fruits and adjectives combinations\n",
        "for x in range(3):\n",
        "    for y in range(3):\n",
        "        nestedFunction(x,y)\n",
        "    print(\"\\n\")\n"
      ]
    },
    {
      "cell_type": "markdown",
      "metadata": {
        "id": "kG9SMDEudsK2"
      },
      "source": [
        "Exercise # 3\n",
        "\n",
        "Create a function to multiply a variable list of numbers. \n",
        "\n",
        "For example: a list of 5 number or a list of 10 numbers.\n"
      ]
    },
    {
      "cell_type": "code",
      "execution_count": 5,
      "metadata": {
        "id": "cIbngmC7e5FY"
      },
      "outputs": [
        {
          "name": "stdout",
          "output_type": "stream",
          "text": [
            "Multiplication of  [5, 9, 2, 7]\n",
            "The product of the numbers you entered is 630\n"
          ]
        }
      ],
      "source": [
        "#Create  function to multiply any lenght list of numbers and print their results\n",
        "#Function to multiply all factors in a list\n",
        "def product(factors):\n",
        "    k = 1\n",
        "    for x in factors:\n",
        "        k = k*x\n",
        "    print(\"The product of the numbers you entered is {}\".format(k))\n",
        "\n",
        "#Declaring an empty list\n",
        "fact = []\n",
        "#Declaring a placeholder for an user decision\n",
        "y = 1\n",
        "\n",
        "#While loop as long as y = 1, based on user input if they want to continue adding numbers\n",
        "while y == 1:\n",
        "    f = input(\"Enter a factor!\\n\")\n",
        "    fact.append(int(f)) #Adding the number entered to the list\n",
        "    next = input(\"Do you want to continue? Type anything to continue or No to multiply the numbers entered!\\n\")\n",
        "    if next.lower() == \"no\":\n",
        "        y = 0\n",
        "#Printing the numbers entered\n",
        "print(\"Multiplication of \", fact)\n",
        "\n",
        "#Calling the function with our list as an argument\n",
        "product(fact)"
      ]
    },
    {
      "cell_type": "markdown",
      "metadata": {
        "id": "UK7oNpa4fEHO"
      },
      "source": [
        "Exercise # 4\n",
        "\n",
        "Create a function to print the data type for each lenght arguments being passed.\n",
        "For example: parameter list (1, \"banana\", [\"cherry\",\"mango\"],True)"
      ]
    },
    {
      "cell_type": "code",
      "execution_count": 7,
      "metadata": {
        "colab": {
          "base_uri": "https://localhost:8080/"
        },
        "id": "TkyFMVvRhWfw",
        "outputId": "06540dd1-2561-469a-f398-34034121bc36"
      },
      "outputs": [
        {
          "name": "stdout",
          "output_type": "stream",
          "text": [
            "1 <class 'int'>\n",
            "banana <class 'str'>\n",
            "['cherry', 'mango'] <class 'list'>\n",
            "True <class 'bool'>\n"
          ]
        }
      ],
      "source": [
        "# Write your function\n",
        "def dataType(args):\n",
        "    for x in args: #Printing the data type of every element in the tuple\n",
        "        print(x, type(x))\n",
        "\n",
        "parameterList = (1, \"banana\", [\"cherry\",\"mango\"],True)\n",
        "\n",
        "dataType(parameterList) #Calling the function\n"
      ]
    },
    {
      "cell_type": "markdown",
      "metadata": {
        "id": "6UZPPscaiaX_"
      },
      "source": [
        "Exercise # 5\n",
        "\n",
        "Create a function where there are 2 names parameters. The first should be a greeting and the second a name.\n",
        "\n",
        "if the paramaters are not being passed the default values should be parameter 1 default to \"Hello\" parameter 2 should default to \"Bob\".\n"
      ]
    },
    {
      "cell_type": "code",
      "execution_count": 8,
      "metadata": {
        "id": "ZY7fKafbjJd-"
      },
      "outputs": [
        {
          "name": "stdout",
          "output_type": "stream",
          "text": [
            "ola pris\n"
          ]
        }
      ],
      "source": [
        "# Create a function here\n",
        "#Defining the function, with parameters greeting and name with default values\n",
        "def greetings(greeting = \"Hello\", name = \"Bob\"):\n",
        "    print(greeting, name) #printing the arguments\n",
        "\n",
        "#Calling the function with different arguments.\n",
        "greetings(\"ola\",\"pris\")"
      ]
    },
    {
      "cell_type": "markdown",
      "metadata": {
        "id": "pHl_BYCrkLsf"
      },
      "source": [
        "Excersise # 6\n",
        "\n",
        "Create a function where you use 2 paramaters, a positional argument and a named parameter set it to True as a defaut value.\n",
        "\n",
        "Pass 2 numbers in each parameter wich you will add to a positional argument number list only if the named paramater is True.\n",
        "\n",
        "The function performs addition operation if option is True. Since the default value is True, the function returns the sum of the arguments unless option parameter is declared as False.\n",
        "\n",
        "Test your function with the following data:\n",
        "a = 10\n",
        "b = 20\n",
        "lst(10,20,30,40,50)\n",
        "Do not pass the third paramater\n",
        "\n",
        "Same as before and now pass option = False (option will be the third parameter)\n",
        "\n"
      ]
    },
    {
      "cell_type": "code",
      "execution_count": 10,
      "metadata": {
        "id": "lASPSc2ll0KQ"
      },
      "outputs": [
        {
          "name": "stdout",
          "output_type": "stream",
          "text": [
            "[10, 20, 30, 40, 50, 489]\n",
            "[10, 20, 30, 40, 50]\n"
          ]
        }
      ],
      "source": [
        "# Write your function here\n",
        "#Defining the function and arguments. boolean is True as per default\n",
        "def exercise6(a,b,bool=True):\n",
        "    lst = [10,20,30,40,50] #declaring a list\n",
        "    if bool == True:\n",
        "        sum = a+b\n",
        "        lst.append(sum) #Making the sum of the 2 numbers and adding them to the list\n",
        "    print(lst)\n",
        "\n",
        "#Calling the function\n",
        "exercise6(420,69)\n",
        "exercise6(420,69, False)"
      ]
    },
    {
      "cell_type": "markdown",
      "metadata": {
        "id": "UzPuHq80l21M"
      },
      "source": [
        "Exercise # 7\n",
        "\n",
        "Creae a function to receive two paramaters, a named parameter, a positional argument and a keywaord argument.\n",
        "Call the function and print the values for each one of them\n",
        "For example:\n",
        "\n",
        "print(paramater1), print(parameter2), print(named argument),print(positional argument), print(keyword argument)"
      ]
    },
    {
      "cell_type": "code",
      "execution_count": null,
      "metadata": {
        "id": "H44d_9wAm5Af"
      },
      "outputs": [],
      "source": [
        "# Create function\n",
        "\n",
        "#Defining parameters as per instructions\n",
        "def parameters(a,b,named,positional, keyword = \"Value\"):\n",
        "    #Printing the values\n",
        "    print(\"Values are: {}, {}, {}, 1 + 23{}, {}\".format(a,b,named,positional, keyword))\n",
        "\n",
        "\n",
        "#Calling the function with these values\n",
        "parameters(1,2, \"tostada\",\"i\", \"juan\")"
      ]
    },
    {
      "cell_type": "markdown",
      "metadata": {
        "id": "sg-kCi0sm8bu"
      },
      "source": [
        "Excersise # 8\n",
        "\n",
        "Using recursion. Create a game that will ask the user 4 times to guess a number. if the user gueses the number print(\"You have won!\") if the user did not guess print(\"You have lost!\")\n",
        "Remember usibg recursion to do this.\n"
      ]
    },
    {
      "cell_type": "code",
      "execution_count": 1,
      "metadata": {
        "id": "pvjBDxuDoIru"
      },
      "outputs": [
        {
          "name": "stdout",
          "output_type": "stream",
          "text": [
            "Wrong!\n",
            "Wrong!\n",
            "Wrong!\n",
            "You won!\n"
          ]
        },
        {
          "ename": "",
          "evalue": "",
          "output_type": "error",
          "traceback": [
            "\u001b[1;31mThe Kernel crashed while executing code in the the current cell or a previous cell. Please review the code in the cell(s) to identify a possible cause of the failure. Click <a href='https://aka.ms/vscodeJupyterKernelCrash'>here</a> for more info. View Jupyter <a href='command:jupyter.viewOutput'>log</a> for further details."
          ]
        }
      ],
      "source": [
        "# Write a recursive funcion here\n",
        "\n",
        "def recursiveGuessing(k):\n",
        "    number = 5 #Number to guess\n",
        "    #Asking user for input, dispkaying k as the amount of tries\n",
        "    guess = int(input(\"Enter your guess! you have {} tries\\n\".format(k))) \n",
        "    if guess == number:\n",
        "        print(\"You won!\")\n",
        "        exit() #If the number entered is the number guessed, display win message and exit the function\n",
        "    else:\n",
        "        print(\"Wrong!\")\n",
        "        return recursiveGuessing(k-1) #If not, play again with 1 less try\n",
        "\n",
        "recursiveGuessing(4) #Calling the function"
      ]
    },
    {
      "cell_type": "markdown",
      "metadata": {
        "id": "zpKQGb1rjU39"
      },
      "source": []
    }
  ],
  "metadata": {
    "colab": {
      "collapsed_sections": [],
      "name": "Projecto Unidad 3.ipynb",
      "provenance": []
    },
    "kernelspec": {
      "display_name": "Python 3.10.5 64-bit",
      "language": "python",
      "name": "python3"
    },
    "language_info": {
      "codemirror_mode": {
        "name": "ipython",
        "version": 3
      },
      "file_extension": ".py",
      "mimetype": "text/x-python",
      "name": "python",
      "nbconvert_exporter": "python",
      "pygments_lexer": "ipython3",
      "version": "3.10.5"
    },
    "vscode": {
      "interpreter": {
        "hash": "ca4ae65869d2cb0a1ce9a252154e55d284ddfed7dca74e9ec9cf70dfaaed74d1"
      }
    }
  },
  "nbformat": 4,
  "nbformat_minor": 0
}
